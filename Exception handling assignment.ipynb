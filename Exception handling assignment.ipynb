{
 "cells": [
  {
   "cell_type": "markdown",
   "id": "facd9ca2",
   "metadata": {},
   "source": [
    "### Q1. What is an Exception in python? Write the difference between Exceptionsnd syntax errors"
   ]
  },
  {
   "cell_type": "markdown",
   "id": "1920a7e9",
   "metadata": {},
   "source": [
    "In Python, an exception is an error that occurs during the execution of a program. Exceptions are raised by the interpreter when an error is encountered, such as when trying to access an undefined variable or when trying to divide by zero.\n",
    "\n",
    "When an exception is raised, Python will stop executing the current code and look for an exception handler that can handle the raised exception. If no handler is found, the program will terminate and print a traceback message that shows the stack trace of the exception.\n",
    "\n",
    "The key difference between syntax errors and exceptions is that syntax errors occur when there is a mistake in the syntax of the program, while exceptions occur when the program is syntactically correct but encounters an error during its execution. Syntax errors prevent the program from being compiled and run, while exceptions occur during runtime.\n",
    "\n",
    "Syntax errors are detected by the Python interpreter during the parsing of the code and will prevent the program from being executed until the error is fixed. Examples of syntax errors include missing or mismatched parentheses, invalid operators, or misspelled keywords.\n",
    "\n",
    "On the other hand, exceptions are raised during the execution of the program and can be caused by a variety of reasons, such as trying to divide by zero, accessing an undefined variable, or passing invalid arguments to a function. Exceptions can be handled by the program using try-except blocks, which allow the program to catch the exception and gracefully recover from the error."
   ]
  },
  {
   "cell_type": "markdown",
   "id": "ac4418b1",
   "metadata": {},
   "source": [
    "### Q2. What happens when an exception is not handled? Explain with an example"
   ]
  },
  {
   "cell_type": "markdown",
   "id": "42db5894",
   "metadata": {},
   "source": [
    "When an exception is not handled in Python, it will propagate up the call stack until a handler is found, or if no handler is found, the program will terminate and print a traceback message that shows the stack trace of the exception. This is known as an unhandled exception."
   ]
  },
  {
   "cell_type": "markdown",
   "id": "9c147097",
   "metadata": {},
   "source": [
    "Let's consider an example to illustrate this:"
   ]
  },
  {
   "cell_type": "code",
   "execution_count": 1,
   "id": "b14a003a",
   "metadata": {},
   "outputs": [
    {
     "ename": "ZeroDivisionError",
     "evalue": "division by zero",
     "output_type": "error",
     "traceback": [
      "\u001b[1;31m---------------------------------------------------------------------------\u001b[0m",
      "\u001b[1;31mZeroDivisionError\u001b[0m                         Traceback (most recent call last)",
      "\u001b[1;32m~\\AppData\\Local\\Temp\\ipykernel_6624\\986796547.py\u001b[0m in \u001b[0;36m<module>\u001b[1;34m\u001b[0m\n\u001b[0;32m      4\u001b[0m \u001b[0ma\u001b[0m \u001b[1;33m=\u001b[0m \u001b[1;36m10\u001b[0m\u001b[1;33m\u001b[0m\u001b[1;33m\u001b[0m\u001b[0m\n\u001b[0;32m      5\u001b[0m \u001b[0mb\u001b[0m \u001b[1;33m=\u001b[0m \u001b[1;36m0\u001b[0m\u001b[1;33m\u001b[0m\u001b[1;33m\u001b[0m\u001b[0m\n\u001b[1;32m----> 6\u001b[1;33m \u001b[0mresult\u001b[0m \u001b[1;33m=\u001b[0m \u001b[0mdivide\u001b[0m\u001b[1;33m(\u001b[0m\u001b[0ma\u001b[0m\u001b[1;33m,\u001b[0m \u001b[0mb\u001b[0m\u001b[1;33m)\u001b[0m\u001b[1;33m\u001b[0m\u001b[1;33m\u001b[0m\u001b[0m\n\u001b[0m\u001b[0;32m      7\u001b[0m \u001b[0mprint\u001b[0m\u001b[1;33m(\u001b[0m\u001b[0mresult\u001b[0m\u001b[1;33m)\u001b[0m\u001b[1;33m\u001b[0m\u001b[1;33m\u001b[0m\u001b[0m\n",
      "\u001b[1;32m~\\AppData\\Local\\Temp\\ipykernel_6624\\986796547.py\u001b[0m in \u001b[0;36mdivide\u001b[1;34m(x, y)\u001b[0m\n\u001b[0;32m      1\u001b[0m \u001b[1;32mdef\u001b[0m \u001b[0mdivide\u001b[0m\u001b[1;33m(\u001b[0m\u001b[0mx\u001b[0m\u001b[1;33m,\u001b[0m \u001b[0my\u001b[0m\u001b[1;33m)\u001b[0m\u001b[1;33m:\u001b[0m\u001b[1;33m\u001b[0m\u001b[1;33m\u001b[0m\u001b[0m\n\u001b[1;32m----> 2\u001b[1;33m     \u001b[1;32mreturn\u001b[0m \u001b[0mx\u001b[0m \u001b[1;33m/\u001b[0m \u001b[0my\u001b[0m\u001b[1;33m\u001b[0m\u001b[1;33m\u001b[0m\u001b[0m\n\u001b[0m\u001b[0;32m      3\u001b[0m \u001b[1;33m\u001b[0m\u001b[0m\n\u001b[0;32m      4\u001b[0m \u001b[0ma\u001b[0m \u001b[1;33m=\u001b[0m \u001b[1;36m10\u001b[0m\u001b[1;33m\u001b[0m\u001b[1;33m\u001b[0m\u001b[0m\n\u001b[0;32m      5\u001b[0m \u001b[0mb\u001b[0m \u001b[1;33m=\u001b[0m \u001b[1;36m0\u001b[0m\u001b[1;33m\u001b[0m\u001b[1;33m\u001b[0m\u001b[0m\n",
      "\u001b[1;31mZeroDivisionError\u001b[0m: division by zero"
     ]
    }
   ],
   "source": [
    "def divide(x, y):\n",
    "    return x / y\n",
    "\n",
    "a = 10\n",
    "b = 0\n",
    "result = divide(a, b)\n",
    "print(result)"
   ]
  },
  {
   "cell_type": "markdown",
   "id": "ba15d6ff",
   "metadata": {},
   "source": [
    "In this example, we have a function called divide that takes two arguments and returns the result of dividing the first argument by the second argument. We then call the divide function with arguments a and b, where b is equal to 0. This will result in a ZeroDivisionError exception, as we cannot divide a number by 0."
   ]
  },
  {
   "cell_type": "markdown",
   "id": "fe1f457e",
   "metadata": {},
   "source": [
    "### Q3. Which Python statements are used to catch and handle exceptions? Explain with an example"
   ]
  },
  {
   "cell_type": "markdown",
   "id": "24b386ed",
   "metadata": {},
   "source": [
    "In Python, we can catch and handle exceptions using the try-except statement. The try block is used to enclose the code that may raise an exception, and the except block is used to handle the exception if it is raised. If an exception is raised in the try block, the code in the except block is executed."
   ]
  },
  {
   "cell_type": "markdown",
   "id": "2648f69c",
   "metadata": {},
   "source": [
    "Example:"
   ]
  },
  {
   "cell_type": "code",
   "execution_count": 3,
   "id": "6e0c062c",
   "metadata": {},
   "outputs": [
    {
     "name": "stdout",
     "output_type": "stream",
     "text": [
      "there is some error [Errno 2] No such file or directory: 'test1.txt'\n",
      "this is my print statement\n",
      "10\n"
     ]
    }
   ],
   "source": [
    "try:\n",
    "    f=open('test1.txt','r')\n",
    "except Exception as e:\n",
    "    print('there is some error',e)\n",
    "    \n",
    "print(\"this is my print statement\")\n",
    "a=10\n",
    "print(a)"
   ]
  },
  {
   "cell_type": "markdown",
   "id": "2aaa706b",
   "metadata": {},
   "source": [
    "### Q4. Explain with an example:\n",
    "#### a. try and else\n",
    "#### b. finally\n",
    "#### c. raise"
   ]
  },
  {
   "cell_type": "markdown",
   "id": "e70e1901",
   "metadata": {},
   "source": [
    "a. try and else statement:\n",
    "In Python, we can also use the else block with try-except statement. The else block is executed only if no exception is raised in the try block."
   ]
  },
  {
   "cell_type": "markdown",
   "id": "9c8ea89d",
   "metadata": {},
   "source": [
    "b. finally statement:\n",
    "The finally block is always executed regardless of whether an exception is raised or not. It is often used to perform cleanup operations such as closing files, network connections, or releasing resources."
   ]
  },
  {
   "cell_type": "markdown",
   "id": "073ea879",
   "metadata": {},
   "source": [
    "c. raise statement:\n",
    "In Python, we can also raise our own exceptions using the raise statement. This allows us to define our own exception types and raise them when necessary."
   ]
  },
  {
   "cell_type": "code",
   "execution_count": 4,
   "id": "2b18a267",
   "metadata": {},
   "outputs": [],
   "source": [
    "class Error(Exception):\n",
    "    pass\n",
    "class SumException(Error):\n",
    "    pass"
   ]
  },
  {
   "cell_type": "code",
   "execution_count": 6,
   "id": "a771fab1",
   "metadata": {},
   "outputs": [
    {
     "name": "stdout",
     "output_type": "stream",
     "text": [
      "error\n",
      "finally block will always execute\n"
     ]
    }
   ],
   "source": [
    "a=10\n",
    "b=10\n",
    "try:\n",
    "    sum=a+b\n",
    "    if sum==20:\n",
    "        raise SumException\n",
    "except SumException:\n",
    "    print('error')\n",
    "else:\n",
    "    print('this block will execute once the try block successfully execute')\n",
    "finally:\n",
    "    print('finally block will always execute')\n",
    "    "
   ]
  },
  {
   "cell_type": "markdown",
   "id": "6161c73e",
   "metadata": {},
   "source": [
    "### Q5. What are Custom Exceptions in python? Why do we need Custom Exceptions? Explain with an example"
   ]
  },
  {
   "cell_type": "markdown",
   "id": "dbe0b2e1",
   "metadata": {},
   "source": [
    "Custom exceptions in Python are user-defined exceptions that allow programmers to create their own exception classes with custom error messages and behavior.\n",
    "\n",
    "We need custom exceptions in Python because the built-in exceptions may not always provide enough information about the nature of an error or how to handle it. Custom exceptions can provide more specific information about errors and can be designed to behave in a way that makes sense for the specific application."
   ]
  },
  {
   "cell_type": "markdown",
   "id": "5e1807ee",
   "metadata": {},
   "source": [
    "### Q6. Create a custom exception class. Use this class to handle an exception."
   ]
  },
  {
   "cell_type": "code",
   "execution_count": 7,
   "id": "78146273",
   "metadata": {},
   "outputs": [],
   "source": [
    "class Error(Exception):\n",
    "    pass\n",
    "class DobException(Error):\n",
    "    pass"
   ]
  },
  {
   "cell_type": "code",
   "execution_count": 8,
   "id": "774be731",
   "metadata": {},
   "outputs": [
    {
     "name": "stdout",
     "output_type": "stream",
     "text": [
      "enter the date of birth: 2009\n"
     ]
    }
   ],
   "source": [
    "dob=int(input('enter the date of birth: '))"
   ]
  },
  {
   "cell_type": "code",
   "execution_count": 9,
   "id": "63cba9f2",
   "metadata": {},
   "outputs": [
    {
     "name": "stdout",
     "output_type": "stream",
     "text": [
      "Age is not with in the range\n"
     ]
    }
   ],
   "source": [
    "age=2023-dob\n",
    "try:\n",
    "    if age>=20 and age<=30:\n",
    "        print(\"You're eligible to apply for the job\")\n",
    "    else:\n",
    "        raise DobException\n",
    "except DobException:\n",
    "    print('Age is not with in the range')\n",
    "    "
   ]
  },
  {
   "cell_type": "code",
   "execution_count": null,
   "id": "8c9d78eb",
   "metadata": {},
   "outputs": [],
   "source": []
  }
 ],
 "metadata": {
  "kernelspec": {
   "display_name": "Python 3 (ipykernel)",
   "language": "python",
   "name": "python3"
  },
  "language_info": {
   "codemirror_mode": {
    "name": "ipython",
    "version": 3
   },
   "file_extension": ".py",
   "mimetype": "text/x-python",
   "name": "python",
   "nbconvert_exporter": "python",
   "pygments_lexer": "ipython3",
   "version": "3.9.13"
  }
 },
 "nbformat": 4,
 "nbformat_minor": 5
}
