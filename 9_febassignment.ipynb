{
 "cells": [
  {
   "cell_type": "markdown",
   "id": "7d8843bd",
   "metadata": {},
   "source": [
    "### Q1, Create a vehicle class with an init method having instance variables as name_of_vehicle, max_speed and average_of_vehicle."
   ]
  },
  {
   "cell_type": "code",
   "execution_count": 26,
   "id": "465c8af6",
   "metadata": {},
   "outputs": [],
   "source": [
    "class Vehicle:\n",
    "    def __init__(self,name,max_speed,avg_speed):\n",
    "        self.name=name\n",
    "        self.max_speed=max_speed\n",
    "        self.avg_speed=avg_speed"
   ]
  },
  {
   "cell_type": "code",
   "execution_count": 9,
   "id": "875b291e",
   "metadata": {},
   "outputs": [],
   "source": [
    "vehicle_obj=Vehicle('swift',200,40)"
   ]
  },
  {
   "cell_type": "code",
   "execution_count": 10,
   "id": "b085c453",
   "metadata": {},
   "outputs": [
    {
     "data": {
      "text/plain": [
       "'swift'"
      ]
     },
     "execution_count": 10,
     "metadata": {},
     "output_type": "execute_result"
    }
   ],
   "source": [
    "vehicle_obj.name"
   ]
  },
  {
   "cell_type": "code",
   "execution_count": 11,
   "id": "7dfd9c9c",
   "metadata": {},
   "outputs": [
    {
     "data": {
      "text/plain": [
       "200"
      ]
     },
     "execution_count": 11,
     "metadata": {},
     "output_type": "execute_result"
    }
   ],
   "source": [
    "vehicle_obj.max_speed"
   ]
  },
  {
   "cell_type": "code",
   "execution_count": 12,
   "id": "6cd38886",
   "metadata": {},
   "outputs": [
    {
     "data": {
      "text/plain": [
       "40"
      ]
     },
     "execution_count": 12,
     "metadata": {},
     "output_type": "execute_result"
    }
   ],
   "source": [
    "vehicle_obj.avg_speed"
   ]
  },
  {
   "cell_type": "markdown",
   "id": "12a5c8ac",
   "metadata": {},
   "source": [
    "### Q2. Create a child class car from the vehicle class created in Que 1, which will inherit the vehicle class.\n",
    "### Create a method named seating_capacity which takes capacity as an argument and returns the name of the vehicle and its seating capacity."
   ]
  },
  {
   "cell_type": "code",
   "execution_count": 38,
   "id": "f4b3143f",
   "metadata": {},
   "outputs": [],
   "source": [
    "class car(Vehicle):\n",
    "    def seat_capacity(self,seat_cpty):\n",
    "        self.seat_cpty=seat_cpty\n",
    "        return self.name,self.seat_cpty"
   ]
  },
  {
   "cell_type": "code",
   "execution_count": 39,
   "id": "d6902167",
   "metadata": {},
   "outputs": [],
   "source": [
    "c1=car('swift',200,60)"
   ]
  },
  {
   "cell_type": "code",
   "execution_count": 41,
   "id": "a3b59cf7",
   "metadata": {},
   "outputs": [
    {
     "data": {
      "text/plain": [
       "('swift', 5)"
      ]
     },
     "execution_count": 41,
     "metadata": {},
     "output_type": "execute_result"
    }
   ],
   "source": [
    "c1.seat_capacity(5)"
   ]
  },
  {
   "cell_type": "markdown",
   "id": "c0f4f32e",
   "metadata": {},
   "source": [
    "### Q3. What is multiple inheritance? Write a python code to demonstrate multiple inheritance."
   ]
  },
  {
   "cell_type": "markdown",
   "id": "abaf8434",
   "metadata": {},
   "source": [
    "### If a child class inherits from more than one class, i.e. this child class is derived from multiple classes, we call it multiple inheritance in Python"
   ]
  },
  {
   "cell_type": "code",
   "execution_count": 42,
   "id": "eae2f5ad",
   "metadata": {},
   "outputs": [],
   "source": [
    "class Class1:\n",
    "    def class1_test(self):\n",
    "        print('this is my class1')"
   ]
  },
  {
   "cell_type": "code",
   "execution_count": 43,
   "id": "1d390c1b",
   "metadata": {},
   "outputs": [],
   "source": [
    "class Class2:\n",
    "    def class2_test(self):\n",
    "        print('this is my class2')"
   ]
  },
  {
   "cell_type": "code",
   "execution_count": 44,
   "id": "5b678cf0",
   "metadata": {},
   "outputs": [],
   "source": [
    "class Class3(Class1,Class2):\n",
    "    def class3_test(self):\n",
    "        print('this is my class3 inherited from class1 and class2')"
   ]
  },
  {
   "cell_type": "code",
   "execution_count": 45,
   "id": "bb103c3a",
   "metadata": {},
   "outputs": [],
   "source": [
    "c3=Class3()"
   ]
  },
  {
   "cell_type": "code",
   "execution_count": 47,
   "id": "119f7a10",
   "metadata": {},
   "outputs": [
    {
     "name": "stdout",
     "output_type": "stream",
     "text": [
      "this is my class1\n"
     ]
    }
   ],
   "source": [
    "c3.class1_test()"
   ]
  },
  {
   "cell_type": "code",
   "execution_count": 48,
   "id": "235f1fa7",
   "metadata": {},
   "outputs": [
    {
     "name": "stdout",
     "output_type": "stream",
     "text": [
      "this is my class2\n"
     ]
    }
   ],
   "source": [
    "c3.class2_test()"
   ]
  },
  {
   "cell_type": "code",
   "execution_count": 49,
   "id": "30917e0b",
   "metadata": {},
   "outputs": [
    {
     "name": "stdout",
     "output_type": "stream",
     "text": [
      "this is my class3 inherited from class1 and class2\n"
     ]
    }
   ],
   "source": [
    "c3.class3_test()"
   ]
  },
  {
   "cell_type": "markdown",
   "id": "a6a072a2",
   "metadata": {},
   "source": [
    "### Q4. What are getter and setter in python? Create a class and create a getter and a setter method in this class."
   ]
  },
  {
   "cell_type": "markdown",
   "id": "61138a4e",
   "metadata": {},
   "source": [
    "#### Getter: A method that allows you to access an attribute in a given class. \n",
    "#### Setter: A method that allows you to set or mutate the value of an attribute in a class"
   ]
  },
  {
   "cell_type": "code",
   "execution_count": 53,
   "id": "df1559db",
   "metadata": {},
   "outputs": [],
   "source": [
    "class Course:\n",
    "    def __init__(self,name,price):\n",
    "        self.__price=price\n",
    "        self.__name=name\n",
    "    @property\n",
    "    def view_price(self):\n",
    "        return self.__price\n",
    "    @view_price.setter\n",
    "    def change_price(self,price):\n",
    "        self.__price=price\n",
    "    "
   ]
  },
  {
   "cell_type": "code",
   "execution_count": 54,
   "id": "f9a8da9f",
   "metadata": {},
   "outputs": [],
   "source": [
    "c1=Course('data science',3000)"
   ]
  },
  {
   "cell_type": "code",
   "execution_count": 55,
   "id": "30308a5e",
   "metadata": {},
   "outputs": [
    {
     "data": {
      "text/plain": [
       "3000"
      ]
     },
     "execution_count": 55,
     "metadata": {},
     "output_type": "execute_result"
    }
   ],
   "source": [
    "c1.view_price"
   ]
  },
  {
   "cell_type": "code",
   "execution_count": 57,
   "id": "890c7281",
   "metadata": {},
   "outputs": [],
   "source": [
    "c1.change_price=6000"
   ]
  },
  {
   "cell_type": "code",
   "execution_count": 58,
   "id": "9115f8e8",
   "metadata": {},
   "outputs": [
    {
     "data": {
      "text/plain": [
       "6000"
      ]
     },
     "execution_count": 58,
     "metadata": {},
     "output_type": "execute_result"
    }
   ],
   "source": [
    "c1.view_price"
   ]
  },
  {
   "cell_type": "markdown",
   "id": "437d6a56",
   "metadata": {},
   "source": []
  }
 ],
 "metadata": {
  "kernelspec": {
   "display_name": "Python 3 (ipykernel)",
   "language": "python",
   "name": "python3"
  },
  "language_info": {
   "codemirror_mode": {
    "name": "ipython",
    "version": 3
   },
   "file_extension": ".py",
   "mimetype": "text/x-python",
   "name": "python",
   "nbconvert_exporter": "python",
   "pygments_lexer": "ipython3",
   "version": "3.9.13"
  }
 },
 "nbformat": 4,
 "nbformat_minor": 5
}
