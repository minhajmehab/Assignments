{
 "cells": [
  {
   "cell_type": "code",
   "execution_count": 29,
   "id": "cb899aad",
   "metadata": {},
   "outputs": [],
   "source": [
    "#Q1. Create a function which will take a list as an argument and return the product of all the numbers after creating a flat list.\n",
    "#Use the below-given list as an argument for your function.\n",
    "#list1 = [1,2,3,4, [44,55,66, True], False, (34,56,78,89,34), {1,2,3,3,2,1}, {1:34, \"key2\": [55, 67, 78, 89], 4: (45,22, 61, 34)}, [56, 'data science'], 'Machine Learning']\n",
    "#Note: you must extract numeric keys and values of the dictionary also."
   ]
  },
  {
   "cell_type": "code",
   "execution_count": null,
   "id": "c35159c3",
   "metadata": {},
   "outputs": [],
   "source": [
    "list1 = [1,2,3,4, [44,55,66, True], False, (34,56,78,89,34), {1,2,3,3,2,1}, {1:34, \"key2\": [55, 67, 78, 89], 4: (45,\n",
    "22, 61, 34)}, [56, 'data science'], 'Machine Learning']"
   ]
  },
  {
   "cell_type": "code",
   "execution_count": 32,
   "id": "e109b9cb",
   "metadata": {},
   "outputs": [],
   "source": [
    "def product1(list1):\n",
    "    product = 1\n",
    "    for i in list1:\n",
    "        if type(i) in [int, float]:\n",
    "            product *= i\n",
    "        elif type(i) in [list, tuple, set]:\n",
    "            for j in i:\n",
    "                if type(j) in [int, float]:\n",
    "                    product *= j\n",
    "        elif type(i) == dict:\n",
    "            for k, v in i.items():\n",
    "                if type(k) in [int, float]:\n",
    "                    product *= k\n",
    "                if type(v) in [int, float]:\n",
    "                    product *= v\n",
    "                elif type(v) in [list, tuple, set]:\n",
    "                    for l in v:\n",
    "                        if type(l) in [int, float]:\n",
    "                            product *= l\n",
    "        else:\n",
    "            pass\n",
    "    return product\n",
    "\n",
    "\n",
    "\n"
   ]
  },
  {
   "cell_type": "code",
   "execution_count": 34,
   "id": "29c0aac0",
   "metadata": {},
   "outputs": [],
   "source": [
    "result=product1(list1)\n"
   ]
  },
  {
   "cell_type": "code",
   "execution_count": 36,
   "id": "13442c00",
   "metadata": {},
   "outputs": [],
   "source": [
    "l=[]"
   ]
  },
  {
   "cell_type": "code",
   "execution_count": 37,
   "id": "32418fa0",
   "metadata": {},
   "outputs": [],
   "source": [
    "l.append(result)"
   ]
  },
  {
   "cell_type": "code",
   "execution_count": 38,
   "id": "e9d7fec5",
   "metadata": {},
   "outputs": [
    {
     "data": {
      "text/plain": [
       "[4134711838987085478833841242112000]"
      ]
     },
     "execution_count": 38,
     "metadata": {},
     "output_type": "execute_result"
    }
   ],
   "source": [
    "l"
   ]
  },
  {
   "cell_type": "code",
   "execution_count": null,
   "id": "26bb9b02",
   "metadata": {},
   "outputs": [],
   "source": [
    "#Q2. Write a python program for encrypting a message sent to you by your friend. The logic of encryption should be such that, for a the output should be z. For b, the output should be y. For c, the output should be x respectively. Also, the whitespace should be replaced with a dollar sign. Keep the punctuation marks unchanged.\n",
    "#Input Sentence: I want to become a Data Scientist.\n",
    "#Encrypt the above input sentence using the program you just created.\n",
    "#Note: Convert the given input sentence into lowercase before encrypting. The final output should be lowercase."
   ]
  },
  {
   "cell_type": "code",
   "execution_count": 32,
   "id": "9fae80ea",
   "metadata": {},
   "outputs": [
    {
     "name": "stdout",
     "output_type": "stream",
     "text": [
      "enter a sentence I want to become a Data Scientist\n"
     ]
    }
   ],
   "source": [
    "sentence=input(\"enter a sentence \")"
   ]
  },
  {
   "cell_type": "code",
   "execution_count": 33,
   "id": "590a72ae",
   "metadata": {},
   "outputs": [
    {
     "data": {
      "text/plain": [
       "'i want to become a data scientist'"
      ]
     },
     "execution_count": 33,
     "metadata": {},
     "output_type": "execute_result"
    }
   ],
   "source": [
    "sentence.lower()\n",
    "    "
   ]
  },
  {
   "cell_type": "code",
   "execution_count": 34,
   "id": "f5c2376e",
   "metadata": {},
   "outputs": [],
   "source": [
    "list1=['a','b','c','d','e','f','g','h','i','j','k','l','m','n','o','p','q','r','s','t','u','v','w','x','y','z']"
   ]
  },
  {
   "cell_type": "code",
   "execution_count": 35,
   "id": "596ca24a",
   "metadata": {},
   "outputs": [],
   "source": [
    "new_sentence=''\n",
    "for i in sentence:\n",
    "    if i==' ':\n",
    "        new_sentence=new_sentence+'$'\n",
    "    else:\n",
    "        for j, k in zip(list1, reversed(list1)):\n",
    "            if i==j:\n",
    "                a=k\n",
    "        new_sentence=new_sentence+a\n",
    "            "
   ]
  },
  {
   "cell_type": "code",
   "execution_count": 36,
   "id": "add65e85",
   "metadata": {},
   "outputs": [
    {
     "data": {
      "text/plain": [
       "'x$dzmg$gl$yvxlnv$z$zzgz$zxrvmgrhg'"
      ]
     },
     "execution_count": 36,
     "metadata": {},
     "output_type": "execute_result"
    }
   ],
   "source": [
    "new_sentence"
   ]
  },
  {
   "cell_type": "code",
   "execution_count": null,
   "id": "90d6624f",
   "metadata": {},
   "outputs": [],
   "source": []
  }
 ],
 "metadata": {
  "kernelspec": {
   "display_name": "Python 3 (ipykernel)",
   "language": "python",
   "name": "python3"
  },
  "language_info": {
   "codemirror_mode": {
    "name": "ipython",
    "version": 3
   },
   "file_extension": ".py",
   "mimetype": "text/x-python",
   "name": "python",
   "nbconvert_exporter": "python",
   "pygments_lexer": "ipython3",
   "version": "3.9.13"
  }
 },
 "nbformat": 4,
 "nbformat_minor": 5
}
